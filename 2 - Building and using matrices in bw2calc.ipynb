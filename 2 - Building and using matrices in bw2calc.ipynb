{
 "cells": [
  {
   "cell_type": "markdown",
   "id": "6ff9fe29-44ce-44c8-bec0-c681554644a5",
   "metadata": {},
   "source": [
    "# 2 - Building and using matrices"
   ]
  },
  {
   "cell_type": "markdown",
   "id": "a9b160ea-fb6a-4ea5-8f51-bc7a1cae3fc5",
   "metadata": {},
   "source": [
    "Before we dive into it, let's think about what we need to actually build a matrix. What specific data would you need? What don't you need?\n",
    "\n",
    "## Exercise\n",
    "\n",
    "Please think about the minimal set of information you would need to build a *sparse matrix* using [scipy.sparse.coo_matrix](https://docs.scipy.org/doc/scipy/reference/generated/scipy.sparse.coo_matrix.html) (sparse matrices store only non-zero values). Then, create this information as Numpy arrays and actually build a sparse matrix.\n",
    "\n",
    "Here is the matrix you should build:\n",
    "\n",
    "$$\\begin{bmatrix} 0 & 1 \\\\ 2 & 3 \\end{bmatrix}$$"
   ]
  },
  {
   "cell_type": "markdown",
   "id": "d3bbc878-d27e-469d-b753-5026792c69d9",
   "metadata": {
    "tags": []
   },
   "source": [
    "## Hint"
   ]
  },
  {
   "cell_type": "markdown",
   "id": "c8aef281-7246-4f87-8fdd-d6ee01d90933",
   "metadata": {
    "tags": []
   },
   "source": [
    "You will need three Numpy arrays: one for the data, one for the row indices, and one for the column indices."
   ]
  },
  {
   "cell_type": "markdown",
   "id": "6bebfb87-3cc9-488e-80d2-d3335dfec743",
   "metadata": {},
   "source": [
    "## Solution"
   ]
  },
  {
   "cell_type": "code",
   "execution_count": 1,
   "id": "5aa545c8-2432-40e1-b0a4-8083df560aa1",
   "metadata": {
    "tags": []
   },
   "outputs": [
    {
     "data": {
      "text/plain": [
       "array([[0, 1],\n",
       "       [2, 3]])"
      ]
     },
     "execution_count": 1,
     "metadata": {},
     "output_type": "execute_result"
    }
   ],
   "source": [
    "import numpy as np\n",
    "from scipy import sparse\n",
    "\n",
    "data = np.array([1, 2, 3])\n",
    "rows = np.array([0, 1, 1])\n",
    "cols = np.array([1, 0, 1])\n",
    "\n",
    "matrix = sparse.coo_matrix((data, (rows, cols)), (2, 2))\n",
    "matrix.toarray()"
   ]
  },
  {
   "cell_type": "markdown",
   "id": "4fce2a58-6d86-4a56-9710-7f03f968c627",
   "metadata": {},
   "source": [
    "## `bw_processing`\n",
    "\n",
    "We can run into difficulties when we want to store this data. The library `bw_processing` helps us create data packages, which can store this matrix-building data on variety of file systems. You can read the [`bw_processing` README](github.com/brightway-lca/bw_processing) for more information, and can see the [PyFilesystem2 Docs](https://docs.pyfilesystem.org/en/latest/) for more on the filesystems that can be used.\n",
    "\n",
    "Let's define this same matrix in `bw_processing`.\n",
    "\n",
    "Matrices by definition are two-dimensional, so we know that to build matrices we will always need to specify the row and column indices of the data. We combine these two arrays into a single Numpy [structured array](https://numpy.org/doc/stable/user/basics.rec.html), which uses the labels `row` and `col`."
   ]
  },
  {
   "cell_type": "code",
   "execution_count": 2,
   "id": "04ba1424-c124-4391-805e-68588143ef72",
   "metadata": {},
   "outputs": [
    {
     "data": {
      "text/plain": [
       "array([(0, 1), (1, 0), (1, 1)], dtype=[('row', '<i4'), ('col', '<i4')])"
      ]
     },
     "execution_count": 2,
     "metadata": {},
     "output_type": "execute_result"
    }
   ],
   "source": [
    "import bw_processing as bwp\n",
    "import numpy as np\n",
    "\n",
    "indices_array = np.array([(0, 1), (1, 0), (1, 1)], dtype=bwp.INDICES_DTYPE)\n",
    "indices_array"
   ]
  },
  {
   "cell_type": "code",
   "execution_count": 3,
   "id": "6396041c-17bf-4a0b-b72a-7f7d73a180f0",
   "metadata": {},
   "outputs": [
    {
     "data": {
      "text/plain": [
       "array([0, 1, 1], dtype=int32)"
      ]
     },
     "execution_count": 3,
     "metadata": {},
     "output_type": "execute_result"
    }
   ],
   "source": [
    "indices_array['row']"
   ]
  },
  {
   "cell_type": "code",
   "execution_count": 4,
   "id": "3dcba032-da1a-4818-8126-f4ab1e418c4d",
   "metadata": {},
   "outputs": [
    {
     "data": {
      "text/plain": [
       "[('row', numpy.int32), ('col', numpy.int32)]"
      ]
     },
     "execution_count": 4,
     "metadata": {},
     "output_type": "execute_result"
    }
   ],
   "source": [
    "bwp.INDICES_DTYPE"
   ]
  },
  {
   "cell_type": "markdown",
   "id": "01dc4bb5-ad81-4846-aba1-d2cfa2a6080b",
   "metadata": {},
   "source": [
    "The data array is the same as before:"
   ]
  },
  {
   "cell_type": "code",
   "execution_count": 5,
   "id": "b43f5478-c4aa-4b00-96c2-7d06f115f9b5",
   "metadata": {},
   "outputs": [
    {
     "data": {
      "text/plain": [
       "array([1, 2, 3])"
      ]
     },
     "execution_count": 5,
     "metadata": {},
     "output_type": "execute_result"
    }
   ],
   "source": [
    "data_array = np.array([1, 2, 3])\n",
    "data_array"
   ]
  },
  {
   "cell_type": "markdown",
   "id": "2f609d37-69b0-4bc6-8112-a697a186ebad",
   "metadata": {},
   "source": [
    "This is all we need to create a data package:"
   ]
  },
  {
   "cell_type": "code",
   "execution_count": 24,
   "id": "9174a0c1-555f-4857-949f-6276d7d39bf9",
   "metadata": {},
   "outputs": [],
   "source": [
    "dp = bwp.create_datapackage()\n",
    "\n",
    "dp.add_persistent_vector(\n",
    "    matrix=\"some name\",\n",
    "    data_array=data_array,\n",
    "    name=\"some name\",\n",
    "    indices_array=indices_array,\n",
    ")"
   ]
  },
  {
   "cell_type": "markdown",
   "id": "dc254a19-c006-486b-9624-e24f2609eb4e",
   "metadata": {},
   "source": [
    "But before this gets too abstract, let's do the same for our example system:\n",
    "\n",
    "<img src='images/simple-graph.png' width='400'>"
   ]
  },
  {
   "cell_type": "markdown",
   "id": "99741d38-5a00-41c2-b714-c169e21fe335",
   "metadata": {},
   "source": [
    "Here we will need three data packages - one for each matrix. Our basic matrix equation is:\n",
    "\n",
    "$h = CB \\cdot diag ( A^{-1}f )$\n",
    "\n",
    "Where **A** is the technosphere matrix, **B** is the biosphere matrix, and **C** is the characterization matrix.\n",
    "\n",
    "Do nodes go in the matrices? Do edges?"
   ]
  },
  {
   "cell_type": "code",
   "execution_count": null,
   "id": "d0c115a3-dfa6-43d6-863b-64766f73a127",
   "metadata": {},
   "outputs": [],
   "source": [
    "(we build our datapackages here)"
   ]
  },
  {
   "cell_type": "markdown",
   "id": "f4727fb9-5644-407d-b51c-10400fa91dfb",
   "metadata": {},
   "source": [
    "## `matrix_utils`\n",
    "\n",
    "A datapackage is just a package... of data. Not a matrix. Let's build one using `matrix_utils`!"
   ]
  },
  {
   "cell_type": "code",
   "execution_count": 27,
   "id": "b0795ac8-511e-42c0-932c-4450c44ddbb2",
   "metadata": {},
   "outputs": [],
   "source": [
    "import matrix_utils as mu"
   ]
  },
  {
   "cell_type": "code",
   "execution_count": 31,
   "id": "656b39fa-0a35-4fae-8c63-d9fe0e4651c8",
   "metadata": {},
   "outputs": [
    {
     "data": {
      "text/plain": [
       "array([[0., 1.],\n",
       "       [2., 3.]])"
      ]
     },
     "execution_count": 31,
     "metadata": {},
     "output_type": "execute_result"
    }
   ],
   "source": [
    "mapped_matrix = mu.MappedMatrix(packages=[technosphere], matrix=\"technosphere_matrix\")\n",
    "mapped_matrix.matrix.toarray()"
   ]
  },
  {
   "cell_type": "code",
   "execution_count": 33,
   "id": "094aec52-5275-4e70-b0ab-700bfdd02b72",
   "metadata": {},
   "outputs": [
    {
     "data": {
      "text/plain": [
       "{<bw_processing.datapackage.FilteredDatapackage at 0x11a408be0>: [<matrix_utils.resource_group.ResourceGroup at 0x11a4088b0>]}"
      ]
     },
     "execution_count": 33,
     "metadata": {},
     "output_type": "execute_result"
    }
   ],
   "source": [
    "mapped_matrix.packages"
   ]
  },
  {
   "cell_type": "markdown",
   "id": "1a30c56d-0946-4d62-9a25-bc86e3af912a",
   "metadata": {},
   "source": [
    "Why is this matrix mapped?"
   ]
  },
  {
   "cell_type": "markdown",
   "id": "500a131e-45b9-44ee-8e28-825d2a44a6fc",
   "metadata": {},
   "source": [
    "We can now use `bw2calc` just as before."
   ]
  },
  {
   "cell_type": "code",
   "execution_count": 1,
   "id": "a6974fb7-bea9-4ba7-a47b-808efa404ab2",
   "metadata": {},
   "outputs": [],
   "source": [
    "(create an LCA with our datapackages)"
   ]
  },
  {
   "cell_type": "markdown",
   "id": "0c6636d6-c31e-4727-85bf-455ea71a621a",
   "metadata": {},
   "source": [
    "Why did we never have to switch to our class project?"
   ]
  },
  {
   "cell_type": "markdown",
   "id": "dd7fd62e-8c52-45f0-b7aa-a958b0952f95",
   "metadata": {},
   "source": [
    "Can we fix one big modelling error in our bike inventory?"
   ]
  }
 ],
 "metadata": {
  "kernelspec": {
   "display_name": "Python 3 (ipykernel)",
   "language": "python",
   "name": "python3"
  },
  "language_info": {
   "codemirror_mode": {
    "name": "ipython",
    "version": 3
   },
   "file_extension": ".py",
   "mimetype": "text/x-python",
   "name": "python",
   "nbconvert_exporter": "python",
   "pygments_lexer": "ipython3",
   "version": "3.9.12"
  }
 },
 "nbformat": 4,
 "nbformat_minor": 5
}
