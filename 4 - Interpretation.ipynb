{
 "cells": [
  {
   "cell_type": "markdown",
   "id": "f72b15c2",
   "metadata": {},
   "source": [
    "# Notebook setup"
   ]
  },
  {
   "cell_type": "code",
   "execution_count": null,
   "id": "2d6e2383",
   "metadata": {},
   "outputs": [],
   "source": [
    "import bw2data as bd\n",
    "import bw2calc as bc\n",
    "import numpy as np"
   ]
  },
  {
   "cell_type": "markdown",
   "id": "98cdc05e-6dd8-445f-933a-7a5126c0a700",
   "metadata": {},
   "source": [
    "This notebook assumes you already have a project with ecoinvent."
   ]
  },
  {
   "cell_type": "code",
   "execution_count": null,
   "id": "a53e460c",
   "metadata": {},
   "outputs": [],
   "source": [
    "bd.projects.set_current(\"LC IMPACT case study\")"
   ]
  },
  {
   "cell_type": "code",
   "execution_count": null,
   "id": "40fafb25",
   "metadata": {},
   "outputs": [],
   "source": [
    "ei = bd.Database(\"ecoinvent\")"
   ]
  },
  {
   "cell_type": "markdown",
   "id": "ab1bf707",
   "metadata": {},
   "source": [
    "# Contribution analysis\n",
    "\n",
    "Before we dive in to `bw2analyzer`, we can actually do the basic contribution analysis easily by ourselves. All we need is to sum one axis of the `lca.characterized_inventory` matrix, sort the values and indices, and then retrieve the metadata for the indices with the highest values."
   ]
  },
  {
   "cell_type": "code",
   "execution_count": null,
   "id": "6472670e",
   "metadata": {},
   "outputs": [],
   "source": [
    "our_act = ei.random()\n",
    "our_fu = {our_act: 1}"
   ]
  },
  {
   "cell_type": "code",
   "execution_count": null,
   "id": "2d1e107e",
   "metadata": {},
   "outputs": [],
   "source": [
    "our_act"
   ]
  },
  {
   "cell_type": "code",
   "execution_count": null,
   "id": "f5064c07",
   "metadata": {},
   "outputs": [],
   "source": [
    "lca = bc.LCA(our_fu, ('IPCC 2013', 'climate change', 'GWP 100a'))\n",
    "lca.lci()\n",
    "lca.lcia()\n",
    "lca.score"
   ]
  },
  {
   "cell_type": "markdown",
   "id": "4a8fc882",
   "metadata": {},
   "source": [
    "Let's look at activities. In this case, we need to sum the rows (stressors or biosphere flows), which are the first axis. As Python is 0-indexed, we use `axis=0`:"
   ]
  },
  {
   "cell_type": "code",
   "execution_count": null,
   "id": "9081e5c8",
   "metadata": {},
   "outputs": [],
   "source": [
    "lca.characterized_inventory.shape"
   ]
  },
  {
   "cell_type": "code",
   "execution_count": null,
   "id": "43066841",
   "metadata": {},
   "outputs": [],
   "source": [
    "by_activity = np.array(lca.characterized_inventory.sum(axis=0))\n",
    "by_activity.shape"
   ]
  },
  {
   "cell_type": "markdown",
   "id": "49a58057",
   "metadata": {},
   "source": [
    "We then need to sort the values. As some may be large, but negative, we sort by the absolute value.\n",
    "\n",
    "There are tricks to do this very quickly in numpy, but we can also be simple:"
   ]
  },
  {
   "cell_type": "code",
   "execution_count": null,
   "id": "2461418b",
   "metadata": {},
   "outputs": [],
   "source": [
    "sorted_values = sorted([(abs(value), value, index) for index, value in enumerate(by_activity[0, :])], reverse=True)"
   ]
  },
  {
   "cell_type": "code",
   "execution_count": null,
   "id": "4c2cb44d",
   "metadata": {},
   "outputs": [],
   "source": [
    "sorted_values[:5]"
   ]
  },
  {
   "cell_type": "markdown",
   "id": "0a0b8653",
   "metadata": {},
   "source": [
    "Then we need to relate these **matrix** indices to something useful. We do this by going backwards, not from database IDs to matrix indices, but matrix indices to database IDs:"
   ]
  },
  {
   "cell_type": "code",
   "execution_count": null,
   "id": "7d0be261",
   "metadata": {},
   "outputs": [],
   "source": [
    "for _, value, index in sorted_values[:5]:\n",
    "    print(value, bd.get_activity(lca.dicts.activity.reversed[index]))"
   ]
  },
  {
   "cell_type": "markdown",
   "id": "de3b24cf",
   "metadata": {},
   "source": [
    "We can also get this information with `bw2analyzer`:"
   ]
  },
  {
   "cell_type": "code",
   "execution_count": null,
   "id": "da5ef70c",
   "metadata": {},
   "outputs": [],
   "source": [
    "ba.ContributionAnalysis().annotated_top_processes(lca)[:5]"
   ]
  },
  {
   "cell_type": "markdown",
   "id": "28caf7fc",
   "metadata": {},
   "source": [
    "The returned format here is `(LCIA score, amount in supply array, activity metadata)`."
   ]
  },
  {
   "cell_type": "markdown",
   "id": "9a1adc9a",
   "metadata": {},
   "source": [
    "Similary, we can look at the emissions:"
   ]
  },
  {
   "cell_type": "code",
   "execution_count": null,
   "id": "b416eb13",
   "metadata": {},
   "outputs": [],
   "source": [
    "ba.ContributionAnalysis().annotated_top_emissions(lca)[:5]"
   ]
  },
  {
   "cell_type": "markdown",
   "id": "ddbc37c9",
   "metadata": {},
   "source": [
    "# Miscellaneous functions"
   ]
  },
  {
   "cell_type": "markdown",
   "id": "58650e6e",
   "metadata": {},
   "source": [
    "## Graphing the technosphere matrix"
   ]
  },
  {
   "cell_type": "code",
   "execution_count": null,
   "id": "50b113e9",
   "metadata": {},
   "outputs": [],
   "source": [
    "from bw2analyzer.matrix_grapher import SparseMatrixGrapher "
   ]
  },
  {
   "cell_type": "code",
   "execution_count": null,
   "id": "0974be8e",
   "metadata": {},
   "outputs": [],
   "source": [
    "smg = SparseMatrixGrapher(lca.technosphere_matrix).ordered_graph()"
   ]
  },
  {
   "cell_type": "markdown",
   "id": "85e46937",
   "metadata": {},
   "source": [
    "## Economic analysis\n",
    "\n",
    "Do the rich activities have all the impact in this world?"
   ]
  },
  {
   "cell_type": "code",
   "execution_count": null,
   "id": "498a467a",
   "metadata": {},
   "outputs": [],
   "source": [
    "from bw2analyzer.econ import gini_coefficient, herfindahl_index, concentration_ratio, theil_index"
   ]
  },
  {
   "cell_type": "code",
   "execution_count": null,
   "id": "58489b01",
   "metadata": {},
   "outputs": [],
   "source": [
    "income = lca.characterized_inventory.data"
   ]
  },
  {
   "cell_type": "code",
   "execution_count": null,
   "id": "12b55f50",
   "metadata": {},
   "outputs": [],
   "source": [
    "gini_coefficient(income), herfindahl_index(income), concentration_ratio(income), theil_index(income)"
   ]
  },
  {
   "cell_type": "code",
   "execution_count": null,
   "id": "d05d0e34",
   "metadata": {},
   "outputs": [],
   "source": [
    "lca.characterized_inventory"
   ]
  },
  {
   "cell_type": "markdown",
   "id": "60aab210",
   "metadata": {},
   "source": [
    "# Traversing the supply chain\n",
    "\n",
    "There is an industrial-strength class in `bw2calc` called `GraphTraversal`, but for quick analysis we can use the following:"
   ]
  },
  {
   "cell_type": "code",
   "execution_count": null,
   "id": "319b2c8a",
   "metadata": {},
   "outputs": [],
   "source": [
    "ba.print_recursive_supply_chain(our_act, max_level=1)"
   ]
  },
  {
   "cell_type": "markdown",
   "id": "1a2f80b9",
   "metadata": {},
   "source": [
    "In the above function, you can play with the following default arguments:\n",
    "\n",
    "* amount=1,\n",
    "* max_level=2,\n",
    "* cutoff=0,\n",
    "* file_obj=None,\n",
    "* tab_character=\"  \",\n",
    "* level=0,\n",
    "\n",
    "Similarly, we can traverse the *characterized* inventory."
   ]
  },
  {
   "cell_type": "code",
   "execution_count": null,
   "id": "5f941fd3",
   "metadata": {},
   "outputs": [],
   "source": [
    "ba.print_recursive_calculation(our_act, ('IPCC 2013', 'climate change', 'GWP 100a'))"
   ]
  },
  {
   "cell_type": "code",
   "execution_count": null,
   "id": "569bf949",
   "metadata": {},
   "outputs": [],
   "source": []
  }
 ],
 "metadata": {
  "kernelspec": {
   "display_name": "Python 3 (ipykernel)",
   "language": "python",
   "name": "python3"
  },
  "language_info": {
   "codemirror_mode": {
    "name": "ipython",
    "version": 3
   },
   "file_extension": ".py",
   "mimetype": "text/x-python",
   "name": "python",
   "nbconvert_exporter": "python",
   "pygments_lexer": "ipython3",
   "version": "3.9.12"
  }
 },
 "nbformat": 4,
 "nbformat_minor": 5
}
