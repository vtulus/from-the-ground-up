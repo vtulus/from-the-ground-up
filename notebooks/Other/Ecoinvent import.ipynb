{
 "cells": [
  {
   "cell_type": "code",
   "execution_count": 1,
   "id": "d2dde1d9-7e3c-4200-9cf7-27714c8dd311",
   "metadata": {},
   "outputs": [],
   "source": [
    "import bw2data as bd\n",
    "import bw2io as bi"
   ]
  },
  {
   "cell_type": "code",
   "execution_count": 2,
   "id": "d8065e79-5719-4e87-99ed-7506998adfa8",
   "metadata": {},
   "outputs": [
    {
     "data": {
      "text/plain": [
       "Brightway2 projects manager with 3 objects:\n",
       "\tdefault\n",
       "\tei import NTNU\n",
       "\tpremisified_scenarios\n",
       "Use `projects.report()` to get a report on all projects."
      ]
     },
     "execution_count": 2,
     "metadata": {},
     "output_type": "execute_result"
    }
   ],
   "source": [
    "bd.projects"
   ]
  },
  {
   "cell_type": "code",
   "execution_count": 3,
   "id": "5a8f75fd-1898-4bac-b05c-6d0cb9d74e89",
   "metadata": {},
   "outputs": [],
   "source": [
    "bd.projects.set_current(\"ei import NTNU\")"
   ]
  },
  {
   "cell_type": "code",
   "execution_count": 4,
   "id": "66b61558-d448-4389-9a6a-e11b18e75f51",
   "metadata": {},
   "outputs": [
    {
     "name": "stdout",
     "output_type": "stream",
     "text": [
      "Biosphere database already present!!! No setup is needed\n"
     ]
    }
   ],
   "source": [
    "bi.bw2setup()"
   ]
  },
  {
   "cell_type": "code",
   "execution_count": 5,
   "id": "2a7b4efc-405e-470d-a13f-1361fe76d724",
   "metadata": {},
   "outputs": [],
   "source": [
    "dirpath = (\n",
    "    r\"C:/Users/vtulus/Documents\"\n",
    "    \"/00-ETH_projects/bw2Hub/data/external\"\n",
    "    \"/ecoinvent/v38/ecoinvent 3.8_cutoff_ecoSpold02/datasets\"\n",
    ")"
   ]
  },
  {
   "cell_type": "code",
   "execution_count": 6,
   "id": "67f8b0d2-4856-45c2-a1a2-37906eede68b",
   "metadata": {},
   "outputs": [
    {
     "name": "stdout",
     "output_type": "stream",
     "text": [
      "Extracting XML data from 19565 datasets\n",
      "Extracted 19565 datasets in 100.40 seconds\n",
      "Applying strategy: normalize_units\n",
      "Applying strategy: update_ecoinvent_locations\n",
      "Applying strategy: remove_zero_amount_coproducts\n",
      "Applying strategy: remove_zero_amount_inputs_with_no_activity\n",
      "Applying strategy: remove_unnamed_parameters\n",
      "Applying strategy: es2_assign_only_product_with_amount_as_reference_product\n",
      "Applying strategy: assign_single_product_as_activity\n",
      "Applying strategy: create_composite_code\n",
      "Applying strategy: drop_unspecified_subcategories\n",
      "Applying strategy: fix_ecoinvent_flows_pre35\n",
      "Applying strategy: drop_temporary_outdated_biosphere_flows\n",
      "Applying strategy: link_biosphere_by_flow_uuid\n",
      "Applying strategy: link_internal_technosphere_by_composite_code\n",
      "Applying strategy: delete_exchanges_missing_activity\n",
      "Applying strategy: delete_ghost_exchanges\n",
      "Applying strategy: remove_uncertainty_from_negative_loss_exchanges\n",
      "Applying strategy: fix_unreasonably_high_lognormal_uncertainties\n",
      "Applying strategy: set_lognormal_loc_value\n",
      "Applying strategy: convert_activity_parameters_to_list\n",
      "Applying strategy: add_cpc_classification_from_single_reference_product\n",
      "Applying strategy: delete_none_synonyms\n",
      "Applying strategy: update_social_flows_in_older_consequential\n",
      "Applied 22 strategies in 9.00 seconds\n"
     ]
    },
    {
     "name": "stderr",
     "output_type": "stream",
     "text": [
      "Writing activities to SQLite3 database:\n"
     ]
    },
    {
     "name": "stdout",
     "output_type": "stream",
     "text": [
      "19565 datasets\n",
      "629959 exchanges\n",
      "0 unlinked exchanges\n",
      "  \n",
      "Not able to determine geocollections for all datasets. This database is not ready for regionalization.\n"
     ]
    },
    {
     "name": "stderr",
     "output_type": "stream",
     "text": [
      "0% [##############################] 100% | ETA: 00:00:00\n",
      "Total time elapsed: 00:01:31\n"
     ]
    },
    {
     "name": "stdout",
     "output_type": "stream",
     "text": [
      "Title: Writing activities to SQLite3 database:\n",
      "  Started: 04/24/2022 00:16:25\n",
      "  Finished: 04/24/2022 00:17:56\n",
      "  Total time elapsed: 00:01:31\n",
      "  CPU %: 76.10\n",
      "  Memory %: 21.87\n",
      "Created database: ecoinvent 3.8 cutoff\n"
     ]
    }
   ],
   "source": [
    "NAME_EI_DB = \"ecoinvent 3.8 cutoff\"\n",
    "if NAME_EI_DB not in list(bd.databases):\n",
    "    ei = bi.SingleOutputEcospold2Importer(dirpath, NAME_EI_DB)\n",
    "    ei.apply_strategies()\n",
    "    ei.all_linked\n",
    "    ei.write_database()\n",
    "    del ei\n",
    "else:\n",
    "    print(f\"{NAME_EI_DB} is already present!\")"
   ]
  }
 ],
 "metadata": {
  "kernelspec": {
   "display_name": "Python (bw25)",
   "language": "python",
   "name": "bw25"
  },
  "language_info": {
   "codemirror_mode": {
    "name": "ipython",
    "version": 3
   },
   "file_extension": ".py",
   "mimetype": "text/x-python",
   "name": "python",
   "nbconvert_exporter": "python",
   "pygments_lexer": "ipython3",
   "version": "3.10.4"
  }
 },
 "nbformat": 4,
 "nbformat_minor": 5
}
