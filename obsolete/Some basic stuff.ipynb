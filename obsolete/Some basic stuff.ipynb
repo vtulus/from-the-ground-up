{
 "cells": [
  {
   "cell_type": "code",
   "execution_count": 1,
   "id": "0d966dd8-e5f3-4b20-be98-08feeda8a52f",
   "metadata": {},
   "outputs": [],
   "source": [
    "import bw2data as bd\n",
    "import bw2io as bi\n",
    "import bw2calc as bc\n",
    "import pandas as pd"
   ]
  },
  {
   "cell_type": "code",
   "execution_count": 2,
   "id": "69ae26f1-fcd8-4f8b-b455-1bb77fa43926",
   "metadata": {},
   "outputs": [],
   "source": [
    "bd.projects.set_current(\"fresh-start\")"
   ]
  },
  {
   "cell_type": "code",
   "execution_count": 3,
   "id": "790fb7f4-1a78-49ec-93f9-202356fbe50c",
   "metadata": {},
   "outputs": [],
   "source": [
    "for db_name in list(bd.databases):\n",
    "    del bd.databases[db_name]"
   ]
  },
  {
   "cell_type": "code",
   "execution_count": 8,
   "id": "ad27fef4-a2a7-4afd-ae5b-0f8e4567bf19",
   "metadata": {},
   "outputs": [],
   "source": [
    "db = bd.Database(\"mobility\")\n",
    "db.register()\n",
    "\n",
    "biosphere = bd.Database(\"biosphere\")\n",
    "biosphere.register()"
   ]
  },
  {
   "cell_type": "code",
   "execution_count": 11,
   "id": "c6b558d9-203f-4bb9-ac09-408efe3ba2b7",
   "metadata": {},
   "outputs": [],
   "source": [
    "data = {\n",
    "    'code': 'bike',\n",
    "    'name': 'bike production',\n",
    "    'location': 'NO',\n",
    "    'unit': 'bike'\n",
    "}\n",
    "\n",
    "bike = db.new_activity(**data)\n",
    "bike.save()"
   ]
  },
  {
   "cell_type": "code",
   "execution_count": 12,
   "id": "03377b96-7e5e-4bc7-a524-428049cc1d3d",
   "metadata": {},
   "outputs": [],
   "source": [
    "data = {\n",
    "    'code': 'CF',\n",
    "    'name': 'carbon fibre',\n",
    "    'unit': 'kilogram',\n",
    "    'location': 'CN'\n",
    "}\n",
    "\n",
    "cf = db.new_activity(**data)\n",
    "cf.save()"
   ]
  },
  {
   "cell_type": "code",
   "execution_count": 13,
   "id": "c3ed02ab-2b7e-42d4-b03b-cb386b7603d8",
   "metadata": {},
   "outputs": [],
   "source": [
    "ng = db.new_node(\n",
    "    name=\"Nat Gas\", \n",
    "    code='ng', \n",
    "    location='NO', \n",
    "    unit='MJ'\n",
    ")\n",
    "\n",
    "ng.save()"
   ]
  },
  {
   "cell_type": "code",
   "execution_count": 14,
   "id": "05eb6c4c-10d8-4430-875f-2a32ac9efd2c",
   "metadata": {},
   "outputs": [],
   "source": [
    "co2 = biosphere.new_node(\n",
    "    name=\"Carbon Dioxide\", \n",
    "    code='co2', \n",
    "    categories=('air',),\n",
    "    type='emission',\n",
    ")\n",
    "\n",
    "co2.save()"
   ]
  },
  {
   "cell_type": "code",
   "execution_count": 15,
   "id": "49d2d738-7e14-40df-8dd0-e9023189ab9b",
   "metadata": {},
   "outputs": [],
   "source": [
    "bike.new_edge(\n",
    "    amount=2.5, \n",
    "    type='technosphere',\n",
    "    input=cf\n",
    ").save()"
   ]
  },
  {
   "cell_type": "code",
   "execution_count": 16,
   "id": "6c33d5c2-b27e-4640-952f-ad8ca76cf35a",
   "metadata": {},
   "outputs": [],
   "source": [
    "cf.new_edge(\n",
    "    amount=237.3,  # plus 58 kWh of electricity, in ecoinvent 3.8 \n",
    "    uncertainty_type=5, \n",
    "    minimum=200, \n",
    "    maximum=300, \n",
    "    type='technosphere',\n",
    "    input=ng,\n",
    ").save()"
   ]
  },
  {
   "cell_type": "code",
   "execution_count": 17,
   "id": "525489dd-caf0-401c-80bc-8ea0f3b8cb71",
   "metadata": {},
   "outputs": [],
   "source": [
    "cf.new_edge(\n",
    "    amount=26.6, \n",
    "    uncertainty_type=5, \n",
    "    minimum=26,\n",
    "    maximum=27.2, \n",
    "    type='biosphere',\n",
    "    input=co2,\n",
    ").save()"
   ]
  },
  {
   "cell_type": "code",
   "execution_count": 18,
   "id": "e6420904-e037-4046-ad2d-cf97188722b5",
   "metadata": {},
   "outputs": [],
   "source": [
    "ipcc = bd.Method(('IPCC',))\n",
    "ipcc.write([\n",
    "    (co2.key, {'amount': 1, 'uncertainty_type': 3, 'loc': 1, 'scale': 0.05}),\n",
    "])"
   ]
  },
  {
   "cell_type": "code",
   "execution_count": 19,
   "id": "f031fe36-d25f-41bc-a099-c1e5f77806ab",
   "metadata": {},
   "outputs": [],
   "source": [
    "import bw2calc as bc"
   ]
  },
  {
   "cell_type": "code",
   "execution_count": 20,
   "id": "f5c3f3e1-49f4-4741-8ea5-39a099d1ee2d",
   "metadata": {},
   "outputs": [
    {
     "name": "stdout",
     "output_type": "stream",
     "text": [
      "3 'Nat Gas' (MJ, NO, None)\n",
      "2 'carbon fibre' (kilogram, CN, None)\n",
      "1 'bike production' (bike, NO, None)\n"
     ]
    }
   ],
   "source": [
    "for obj in bd.Database(\"mobility\"):\n",
    "    print(obj.id, obj)"
   ]
  },
  {
   "cell_type": "code",
   "execution_count": 21,
   "id": "1309e807-b427-466a-ae3c-9789dc607d0f",
   "metadata": {},
   "outputs": [],
   "source": [
    "bike = bd.get_activity(1)"
   ]
  },
  {
   "cell_type": "code",
   "execution_count": 23,
   "id": "170661dd-5d28-43f0-a174-2d8486f8b994",
   "metadata": {},
   "outputs": [],
   "source": [
    "lca = bc.LCA(\n",
    "    {bike: 1}, # Func unit is one bike\n",
    "    ('IPCC',),\n",
    "    use_distributions=True,\n",
    "    seed_override=None\n",
    ")\n",
    "lca.lci()\n",
    "lca.lcia()"
   ]
  },
  {
   "cell_type": "code",
   "execution_count": 24,
   "id": "29f48f96-f447-41f4-a622-bba6524fc459",
   "metadata": {},
   "outputs": [
    {
     "data": {
      "text/plain": [
       "array([[   1.        ,    0.        ,    0.        ],\n",
       "       [  -2.5       ,    1.        ,    0.        ],\n",
       "       [   0.        , -243.20599945,    1.        ]])"
      ]
     },
     "execution_count": 24,
     "metadata": {},
     "output_type": "execute_result"
    }
   ],
   "source": [
    "lca.technosphere_matrix.toarray()"
   ]
  },
  {
   "cell_type": "code",
   "execution_count": 25,
   "id": "e54c4c12-8b19-48a5-9984-cfd594e1b56c",
   "metadata": {},
   "outputs": [
    {
     "data": {
      "text/plain": [
       "array([[ 0.        , 26.75185723,  0.        ]])"
      ]
     },
     "execution_count": 25,
     "metadata": {},
     "output_type": "execute_result"
    }
   ],
   "source": [
    "lca.biosphere_matrix.toarray()"
   ]
  },
  {
   "cell_type": "code",
   "execution_count": 26,
   "id": "b4c247d9-197d-49a4-ba84-358911bb9fa5",
   "metadata": {},
   "outputs": [
    {
     "data": {
      "text/plain": [
       "array([[0.97608829]])"
      ]
     },
     "execution_count": 26,
     "metadata": {},
     "output_type": "execute_result"
    }
   ],
   "source": [
    "lca.characterization_matrix.toarray()"
   ]
  },
  {
   "cell_type": "code",
   "execution_count": 126,
   "id": "404e50d5-7c5d-4c1c-b26e-7600f0ebebb0",
   "metadata": {},
   "outputs": [
    {
     "data": {
      "text/plain": [
       "array([1., 0., 0.])"
      ]
     },
     "execution_count": 126,
     "metadata": {},
     "output_type": "execute_result"
    }
   ],
   "source": [
    "lca.demand_array"
   ]
  },
  {
   "cell_type": "code",
   "execution_count": 115,
   "id": "0cf6eef6-bd48-4cda-9e76-ec5902f5a4e9",
   "metadata": {},
   "outputs": [
    {
     "data": {
      "text/plain": [
       "[(2654, 0), (2655, 1), (2656, 2)]"
      ]
     },
     "execution_count": 115,
     "metadata": {},
     "output_type": "execute_result"
    }
   ],
   "source": [
    "list(lca.dicts.product.items())"
   ]
  },
  {
   "cell_type": "code",
   "execution_count": 116,
   "id": "219e6463-21d6-46db-a078-5094a88d78da",
   "metadata": {},
   "outputs": [
    {
     "data": {
      "text/plain": [
       "[(2654, 0), (2655, 1), (2656, 2)]"
      ]
     },
     "execution_count": 116,
     "metadata": {},
     "output_type": "execute_result"
    }
   ],
   "source": [
    "list(lca.dicts.activity.items())"
   ]
  },
  {
   "cell_type": "code",
   "execution_count": 117,
   "id": "e359014b-1efd-4cbf-93cd-f1e6b28a2faf",
   "metadata": {},
   "outputs": [],
   "source": [
    "lca.build_demand_array({2655: 4444})"
   ]
  },
  {
   "cell_type": "code",
   "execution_count": 106,
   "id": "5ea651cc-321e-42bc-80c7-2058af4db53d",
   "metadata": {},
   "outputs": [],
   "source": [
    "bd.Database(\"mobility\").process()"
   ]
  },
  {
   "cell_type": "code",
   "execution_count": 89,
   "id": "435147ff-fe83-4ce2-b17e-4142b1bb1f0d",
   "metadata": {},
   "outputs": [
    {
     "data": {
      "text/html": [
       "<div>\n",
       "<style scoped>\n",
       "    .dataframe tbody tr th:only-of-type {\n",
       "        vertical-align: middle;\n",
       "    }\n",
       "\n",
       "    .dataframe tbody tr th {\n",
       "        vertical-align: top;\n",
       "    }\n",
       "\n",
       "    .dataframe thead th {\n",
       "        text-align: right;\n",
       "    }\n",
       "</style>\n",
       "<table border=\"1\" class=\"dataframe\">\n",
       "  <thead>\n",
       "    <tr style=\"text-align: right;\">\n",
       "      <th></th>\n",
       "      <th>score</th>\n",
       "      <th>inv</th>\n",
       "      <th>char</th>\n",
       "    </tr>\n",
       "  </thead>\n",
       "  <tbody>\n",
       "    <tr>\n",
       "      <th>0</th>\n",
       "      <td>0.113052</td>\n",
       "      <td>0.105623</td>\n",
       "      <td>1.070339</td>\n",
       "    </tr>\n",
       "    <tr>\n",
       "      <th>1</th>\n",
       "      <td>0.119319</td>\n",
       "      <td>0.115367</td>\n",
       "      <td>1.034255</td>\n",
       "    </tr>\n",
       "    <tr>\n",
       "      <th>2</th>\n",
       "      <td>0.104629</td>\n",
       "      <td>0.109372</td>\n",
       "      <td>0.956640</td>\n",
       "    </tr>\n",
       "    <tr>\n",
       "      <th>3</th>\n",
       "      <td>0.104460</td>\n",
       "      <td>0.106282</td>\n",
       "      <td>0.982862</td>\n",
       "    </tr>\n",
       "    <tr>\n",
       "      <th>4</th>\n",
       "      <td>0.120127</td>\n",
       "      <td>0.117405</td>\n",
       "      <td>1.023182</td>\n",
       "    </tr>\n",
       "    <tr>\n",
       "      <th>...</th>\n",
       "      <td>...</td>\n",
       "      <td>...</td>\n",
       "      <td>...</td>\n",
       "    </tr>\n",
       "    <tr>\n",
       "      <th>95</th>\n",
       "      <td>0.116019</td>\n",
       "      <td>0.113474</td>\n",
       "      <td>1.022429</td>\n",
       "    </tr>\n",
       "    <tr>\n",
       "      <th>96</th>\n",
       "      <td>0.110372</td>\n",
       "      <td>0.112573</td>\n",
       "      <td>0.980449</td>\n",
       "    </tr>\n",
       "    <tr>\n",
       "      <th>97</th>\n",
       "      <td>0.120151</td>\n",
       "      <td>0.116115</td>\n",
       "      <td>1.034754</td>\n",
       "    </tr>\n",
       "    <tr>\n",
       "      <th>98</th>\n",
       "      <td>0.104303</td>\n",
       "      <td>0.110353</td>\n",
       "      <td>0.945177</td>\n",
       "    </tr>\n",
       "    <tr>\n",
       "      <th>99</th>\n",
       "      <td>0.109518</td>\n",
       "      <td>0.110350</td>\n",
       "      <td>0.992462</td>\n",
       "    </tr>\n",
       "  </tbody>\n",
       "</table>\n",
       "<p>100 rows × 3 columns</p>\n",
       "</div>"
      ],
      "text/plain": [
       "       score       inv      char\n",
       "0   0.113052  0.105623  1.070339\n",
       "1   0.119319  0.115367  1.034255\n",
       "2   0.104629  0.109372  0.956640\n",
       "3   0.104460  0.106282  0.982862\n",
       "4   0.120127  0.117405  1.023182\n",
       "..       ...       ...       ...\n",
       "95  0.116019  0.113474  1.022429\n",
       "96  0.110372  0.112573  0.980449\n",
       "97  0.120151  0.116115  1.034754\n",
       "98  0.104303  0.110353  0.945177\n",
       "99  0.109518  0.110350  0.992462\n",
       "\n",
       "[100 rows x 3 columns]"
      ]
     },
     "execution_count": 89,
     "metadata": {},
     "output_type": "execute_result"
    }
   ],
   "source": [
    "df = pd.DataFrame([\n",
    "    {\n",
    "        'score': lca.score, \n",
    "        'inv': lca.inventory.sum(), \n",
    "        # 'heat': lca.technosphere_matrix[lca.dicts.product[ng.id], lca.dicts.activity[cf.id]],\n",
    "        'char': lca.characterization_matrix.sum()\n",
    "    } for _, _ in zip(lca, range(100))\n",
    "])\n",
    "df"
   ]
  },
  {
   "cell_type": "code",
   "execution_count": 90,
   "id": "a71ef2e8-74c3-4491-9a68-ec7109aac873",
   "metadata": {},
   "outputs": [
    {
     "data": {
      "text/plain": [
       "array([[<AxesSubplot:title={'center':'score'}>]], dtype=object)"
      ]
     },
     "execution_count": 90,
     "metadata": {},
     "output_type": "execute_result"
    },
    {
     "data": {
      "image/png": "[encoded data removed]",
      "text/plain": [
       "<Figure size 432x288 with 1 Axes>"
      ]
     },
     "metadata": {
      "needs_background": "light"
     },
     "output_type": "display_data"
    }
   ],
   "source": [
    "df.hist('score')"
   ]
  },
  {
   "cell_type": "markdown",
   "id": "ff85f580-13cc-4d11-93d3-3b5acd0b5ae8",
   "metadata": {},
   "source": [
    "What if we only want uncertainty in the characterization step?\n",
    "\n",
    "We need to modify the datapackage a bit"
   ]
  },
  {
   "cell_type": "code",
   "execution_count": 44,
   "id": "2504a424-c376-4ed8-9a9f-fb448e2d334f",
   "metadata": {},
   "outputs": [],
   "source": [
    "from bw_processing import load_datapackage\n",
    "from fs.zipfs import ZipFS"
   ]
  },
  {
   "cell_type": "code",
   "execution_count": 128,
   "id": "6ee62fb6-a338-4b2c-a689-0562af0777ab",
   "metadata": {},
   "outputs": [],
   "source": [
    "database_dp = load_datapackage(ZipFS(db.filepath_processed()))\n",
    "method_dp = load_datapackage(ZipFS(ipcc.filepath_processed()))"
   ]
  },
  {
   "cell_type": "markdown",
   "id": "3f1793c6-03a2-42b0-b56d-0ef926951514",
   "metadata": {},
   "source": [
    "We can use the datapackages directly, just as before:"
   ]
  },
  {
   "cell_type": "code",
   "execution_count": 129,
   "id": "62af0174-0cb0-4496-9aac-15b64de02122",
   "metadata": {},
   "outputs": [
    {
     "data": {
      "text/plain": [
       "2655"
      ]
     },
     "execution_count": 129,
     "metadata": {},
     "output_type": "execute_result"
    }
   ],
   "source": [
    "bike.id"
   ]
  },
  {
   "cell_type": "code",
   "execution_count": 132,
   "id": "0f000d37-d0fc-4f48-8908-6a30e42086c3",
   "metadata": {},
   "outputs": [
    {
     "data": {
      "text/plain": [
       "2654"
      ]
     },
     "execution_count": 132,
     "metadata": {},
     "output_type": "execute_result"
    }
   ],
   "source": [
    "bd.get_id(bike)"
   ]
  },
  {
   "cell_type": "code",
   "execution_count": 133,
   "id": "afe4ebe5-33f2-4217-9505-0e3446f443cb",
   "metadata": {},
   "outputs": [
    {
     "data": {
      "text/plain": [
       "2655"
      ]
     },
     "execution_count": 133,
     "metadata": {},
     "output_type": "execute_result"
    }
   ],
   "source": [
    "bike.id"
   ]
  },
  {
   "cell_type": "code",
   "execution_count": 130,
   "id": "146f6ad7-175d-45c8-8962-5d1024fe8e1c",
   "metadata": {},
   "outputs": [],
   "source": [
    "lca = bc.LCA(\n",
    "    demand={2655: 1},\n",
    "    data_objs=[database_dp, method_dp],\n",
    "    use_distributions=True,\n",
    "    seed_override=None\n",
    ")\n",
    "lca.lci()\n",
    "lca.lcia()"
   ]
  },
  {
   "cell_type": "code",
   "execution_count": 131,
   "id": "f583caa4-15c9-4abb-9722-0fe7151ecc25",
   "metadata": {},
   "outputs": [
    {
     "data": {
      "text/html": [
       "<div>\n",
       "<style scoped>\n",
       "    .dataframe tbody tr th:only-of-type {\n",
       "        vertical-align: middle;\n",
       "    }\n",
       "\n",
       "    .dataframe tbody tr th {\n",
       "        vertical-align: top;\n",
       "    }\n",
       "\n",
       "    .dataframe thead th {\n",
       "        text-align: right;\n",
       "    }\n",
       "</style>\n",
       "<table border=\"1\" class=\"dataframe\">\n",
       "  <thead>\n",
       "    <tr style=\"text-align: right;\">\n",
       "      <th></th>\n",
       "      <th>score</th>\n",
       "      <th>inv</th>\n",
       "      <th>char</th>\n",
       "    </tr>\n",
       "  </thead>\n",
       "  <tbody>\n",
       "    <tr>\n",
       "      <th>0</th>\n",
       "      <td>73.069695</td>\n",
       "      <td>68.923760</td>\n",
       "      <td>1.060152</td>\n",
       "    </tr>\n",
       "    <tr>\n",
       "      <th>1</th>\n",
       "      <td>63.054393</td>\n",
       "      <td>61.502302</td>\n",
       "      <td>1.025236</td>\n",
       "    </tr>\n",
       "    <tr>\n",
       "      <th>2</th>\n",
       "      <td>66.257254</td>\n",
       "      <td>72.299744</td>\n",
       "      <td>0.916424</td>\n",
       "    </tr>\n",
       "    <tr>\n",
       "      <th>3</th>\n",
       "      <td>58.039134</td>\n",
       "      <td>65.926548</td>\n",
       "      <td>0.880361</td>\n",
       "    </tr>\n",
       "    <tr>\n",
       "      <th>4</th>\n",
       "      <td>60.621198</td>\n",
       "      <td>63.837397</td>\n",
       "      <td>0.949619</td>\n",
       "    </tr>\n",
       "    <tr>\n",
       "      <th>5</th>\n",
       "      <td>79.369478</td>\n",
       "      <td>72.580892</td>\n",
       "      <td>1.093531</td>\n",
       "    </tr>\n",
       "    <tr>\n",
       "      <th>6</th>\n",
       "      <td>58.728043</td>\n",
       "      <td>61.843008</td>\n",
       "      <td>0.949631</td>\n",
       "    </tr>\n",
       "    <tr>\n",
       "      <th>7</th>\n",
       "      <td>74.633912</td>\n",
       "      <td>73.111030</td>\n",
       "      <td>1.020830</td>\n",
       "    </tr>\n",
       "    <tr>\n",
       "      <th>8</th>\n",
       "      <td>78.986730</td>\n",
       "      <td>85.264106</td>\n",
       "      <td>0.926377</td>\n",
       "    </tr>\n",
       "    <tr>\n",
       "      <th>9</th>\n",
       "      <td>73.959913</td>\n",
       "      <td>74.334350</td>\n",
       "      <td>0.994963</td>\n",
       "    </tr>\n",
       "  </tbody>\n",
       "</table>\n",
       "</div>"
      ],
      "text/plain": [
       "       score        inv      char\n",
       "0  73.069695  68.923760  1.060152\n",
       "1  63.054393  61.502302  1.025236\n",
       "2  66.257254  72.299744  0.916424\n",
       "3  58.039134  65.926548  0.880361\n",
       "4  60.621198  63.837397  0.949619\n",
       "5  79.369478  72.580892  1.093531\n",
       "6  58.728043  61.843008  0.949631\n",
       "7  74.633912  73.111030  1.020830\n",
       "8  78.986730  85.264106  0.926377\n",
       "9  73.959913  74.334350  0.994963"
      ]
     },
     "execution_count": 131,
     "metadata": {},
     "output_type": "execute_result"
    }
   ],
   "source": [
    "pd.DataFrame([\n",
    "    {\n",
    "        'score': lca.score, \n",
    "        'inv': lca.inventory.sum(), \n",
    "        'char': lca.characterization_matrix.sum()\n",
    "    } for _, _ in zip(lca, range(10))\n",
    "])"
   ]
  },
  {
   "cell_type": "markdown",
   "id": "c80ca5a2-25bc-4f87-bd18-4f36e7d6e18b",
   "metadata": {},
   "source": [
    "But we can also filter out the uncertainty from the $A$ matrix:"
   ]
  },
  {
   "cell_type": "code",
   "execution_count": 54,
   "id": "f74a9b91-5a9d-4d1c-b9ce-e3cf5ab1ae5a",
   "metadata": {},
   "outputs": [
    {
     "data": {
      "text/plain": [
       "{'mobility_biosphere_matrix': <bw_processing.datapackage.FilteredDatapackage at 0x127e50fa0>,\n",
       " 'mobility_inventory_geomapping_matrix': <bw_processing.datapackage.FilteredDatapackage at 0x127e50e20>,\n",
       " 'mobility_technosphere_matrix': <bw_processing.datapackage.FilteredDatapackage at 0x127e50df0>}"
      ]
     },
     "execution_count": 54,
     "metadata": {},
     "output_type": "execute_result"
    }
   ],
   "source": [
    "database_dp.groups"
   ]
  },
  {
   "cell_type": "code",
   "execution_count": 59,
   "id": "1d5e9507-d0e7-4a80-a859-00e7ba889711",
   "metadata": {},
   "outputs": [
    {
     "data": {
      "text/plain": [
       "(array([(0,   1. , nan, nan,  nan,  nan, False),\n",
       "        (0,   2.5, nan, nan,  nan,  nan, False),\n",
       "        (0,   1. , nan, nan,  nan,  nan, False),\n",
       "        (5, 237.3, nan, nan, 200., 300., False),\n",
       "        (0,   1. , nan, nan,  nan,  nan, False)],\n",
       "       dtype=[('uncertainty_type', 'u1'), ('loc', '<f4'), ('scale', '<f4'), ('shape', '<f4'), ('minimum', '<f4'), ('maximum', '<f4'), ('negative', '?')]),\n",
       " {'profile': 'data-resource',\n",
       "  'format': 'npy',\n",
       "  'mediatype': 'application/octet-stream',\n",
       "  'name': 'mobility_technosphere_matrix.distributions',\n",
       "  'matrix': 'technosphere_matrix',\n",
       "  'kind': 'distributions',\n",
       "  'path': 'mobility_technosphere_matrix.distributions.npy',\n",
       "  'group': 'mobility_technosphere_matrix',\n",
       "  'nrows': 5,\n",
       "  'category': 'vector'})"
      ]
     },
     "execution_count": 59,
     "metadata": {},
     "output_type": "execute_result"
    }
   ],
   "source": [
    "database_dp.get_resource('mobility_technosphere_matrix.distributions')"
   ]
  },
  {
   "cell_type": "code",
   "execution_count": 55,
   "id": "ca058508-7776-4878-8654-e958826477d5",
   "metadata": {},
   "outputs": [],
   "source": [
    "filtered_dp = (database_dp\n",
    "               .exclude_resource_group_kind('mobility_technosphere_matrix', 'distributions')\n",
    "               .exclude_resource_group_kind('mobility_biosphere_matrix', 'distributions')\n",
    "              )"
   ]
  },
  {
   "cell_type": "code",
   "execution_count": 56,
   "id": "4d68b645-be3a-433c-9491-6ef668752151",
   "metadata": {},
   "outputs": [
    {
     "data": {
      "text/plain": [
       "['mobility_biosphere_matrix.distributions',\n",
       " 'mobility_technosphere_matrix.distributions']"
      ]
     },
     "execution_count": 56,
     "metadata": {},
     "output_type": "execute_result"
    }
   ],
   "source": [
    "[obj['name'] for obj in database_dp.resources if obj['kind'] == 'distributions']"
   ]
  },
  {
   "cell_type": "code",
   "execution_count": 57,
   "id": "9cbaa90a-5ca5-4ee7-b1ef-eae4b60d778e",
   "metadata": {},
   "outputs": [
    {
     "data": {
      "text/plain": [
       "[]"
      ]
     },
     "execution_count": 57,
     "metadata": {},
     "output_type": "execute_result"
    }
   ],
   "source": [
    "[obj['name'] for obj in filtered_dp.resources if obj['kind'] == 'distributions']"
   ]
  },
  {
   "cell_type": "code",
   "execution_count": 60,
   "id": "d9af9f5d-659a-4f1a-a7a6-be81dceac673",
   "metadata": {},
   "outputs": [],
   "source": [
    "lca = bc.LCA(\n",
    "    {bike.id: 1},\n",
    "    data_objs=[filtered_dp, method_dp],\n",
    "    use_distributions=True,\n",
    "    seed_override=None\n",
    ")\n",
    "lca.lci()\n",
    "lca.lcia()"
   ]
  },
  {
   "cell_type": "code",
   "execution_count": 61,
   "id": "9188a9f4-a361-4f6b-8080-f39423509708",
   "metadata": {},
   "outputs": [
    {
     "data": {
      "text/html": [
       "<div>\n",
       "<style scoped>\n",
       "    .dataframe tbody tr th:only-of-type {\n",
       "        vertical-align: middle;\n",
       "    }\n",
       "\n",
       "    .dataframe tbody tr th {\n",
       "        vertical-align: top;\n",
       "    }\n",
       "\n",
       "    .dataframe thead th {\n",
       "        text-align: right;\n",
       "    }\n",
       "</style>\n",
       "<table border=\"1\" class=\"dataframe\">\n",
       "  <thead>\n",
       "    <tr style=\"text-align: right;\">\n",
       "      <th></th>\n",
       "      <th>score</th>\n",
       "      <th>inv</th>\n",
       "      <th>char</th>\n",
       "    </tr>\n",
       "  </thead>\n",
       "  <tbody>\n",
       "    <tr>\n",
       "      <th>0</th>\n",
       "      <td>66.725181</td>\n",
       "      <td>66.500001</td>\n",
       "      <td>1.003386</td>\n",
       "    </tr>\n",
       "    <tr>\n",
       "      <th>1</th>\n",
       "      <td>65.101532</td>\n",
       "      <td>66.500001</td>\n",
       "      <td>0.978970</td>\n",
       "    </tr>\n",
       "    <tr>\n",
       "      <th>2</th>\n",
       "      <td>65.754924</td>\n",
       "      <td>66.500001</td>\n",
       "      <td>0.988796</td>\n",
       "    </tr>\n",
       "    <tr>\n",
       "      <th>3</th>\n",
       "      <td>67.342051</td>\n",
       "      <td>66.500001</td>\n",
       "      <td>1.012662</td>\n",
       "    </tr>\n",
       "    <tr>\n",
       "      <th>4</th>\n",
       "      <td>64.211793</td>\n",
       "      <td>66.500001</td>\n",
       "      <td>0.965591</td>\n",
       "    </tr>\n",
       "    <tr>\n",
       "      <th>5</th>\n",
       "      <td>69.542878</td>\n",
       "      <td>66.500001</td>\n",
       "      <td>1.045758</td>\n",
       "    </tr>\n",
       "    <tr>\n",
       "      <th>6</th>\n",
       "      <td>65.772137</td>\n",
       "      <td>66.500001</td>\n",
       "      <td>0.989055</td>\n",
       "    </tr>\n",
       "    <tr>\n",
       "      <th>7</th>\n",
       "      <td>68.447438</td>\n",
       "      <td>66.500001</td>\n",
       "      <td>1.029285</td>\n",
       "    </tr>\n",
       "    <tr>\n",
       "      <th>8</th>\n",
       "      <td>67.715640</td>\n",
       "      <td>66.500001</td>\n",
       "      <td>1.018280</td>\n",
       "    </tr>\n",
       "    <tr>\n",
       "      <th>9</th>\n",
       "      <td>70.597701</td>\n",
       "      <td>66.500001</td>\n",
       "      <td>1.061620</td>\n",
       "    </tr>\n",
       "  </tbody>\n",
       "</table>\n",
       "</div>"
      ],
      "text/plain": [
       "       score        inv      char\n",
       "0  66.725181  66.500001  1.003386\n",
       "1  65.101532  66.500001  0.978970\n",
       "2  65.754924  66.500001  0.988796\n",
       "3  67.342051  66.500001  1.012662\n",
       "4  64.211793  66.500001  0.965591\n",
       "5  69.542878  66.500001  1.045758\n",
       "6  65.772137  66.500001  0.989055\n",
       "7  68.447438  66.500001  1.029285\n",
       "8  67.715640  66.500001  1.018280\n",
       "9  70.597701  66.500001  1.061620"
      ]
     },
     "execution_count": 61,
     "metadata": {},
     "output_type": "execute_result"
    }
   ],
   "source": [
    "pd.DataFrame([\n",
    "    {\n",
    "        'score': lca.score, \n",
    "        'inv': lca.inventory.sum(), \n",
    "        'char': lca.characterization_matrix.sum()\n",
    "    } for _, _ in zip(lca, range(10))\n",
    "])"
   ]
  },
  {
   "cell_type": "markdown",
   "id": "7cc76367-1b10-4dcb-94dd-e373e1e88fb2",
   "metadata": {},
   "source": [
    "We have a problem in our modelling. Maybe you spotted it already; in any case, we can see this LCI data in a document. This is the third perspective, and so we need to use our third library: `bw2io`."
   ]
  },
  {
   "cell_type": "code",
   "execution_count": 62,
   "id": "7c25b045-1d1b-4912-b27f-4a773d26fbd0",
   "metadata": {},
   "outputs": [],
   "source": [
    "from bw2io.export import write_lci_excel"
   ]
  },
  {
   "cell_type": "code",
   "execution_count": 63,
   "id": "87be73d1-2aca-421b-a04e-80e64b45f17b",
   "metadata": {},
   "outputs": [],
   "source": [
    "from pathlib import Path"
   ]
  },
  {
   "cell_type": "code",
   "execution_count": 64,
   "id": "9f32e4bc-0764-4d23-aeab-78e3a558bd44",
   "metadata": {},
   "outputs": [],
   "source": [
    "xl = Path(write_lci_excel(db.name))"
   ]
  },
  {
   "cell_type": "code",
   "execution_count": 65,
   "id": "ca375ed5-3681-46da-bda2-8907102de4b3",
   "metadata": {},
   "outputs": [
    {
     "data": {
      "text/plain": [
       "PosixPath('/Users/cmutel/Code/brightway/from-the-ground-up/notebooks/lci-mobility.xlsx')"
      ]
     },
     "execution_count": 65,
     "metadata": {},
     "output_type": "execute_result"
    }
   ],
   "source": [
    "xl.rename(Path.cwd() / xl.name)"
   ]
  },
  {
   "cell_type": "code",
   "execution_count": 101,
   "id": "45b0d692-8d45-46e8-92f7-b54b8a51a6e4",
   "metadata": {},
   "outputs": [],
   "source": [
    "bi.create_core_migrations()"
   ]
  },
  {
   "cell_type": "code",
   "execution_count": 67,
   "id": "b6b1ee65-807f-4eb9-8a78-ccf77c40ee85",
   "metadata": {},
   "outputs": [
    {
     "data": {
      "text/plain": [
       "[<function bw2io.strategies.csv.csv_restore_tuples(data)>,\n",
       " <function bw2io.strategies.csv.csv_restore_booleans(data)>,\n",
       " <function bw2io.strategies.csv.csv_numerize(data)>,\n",
       " <function bw2io.strategies.csv.csv_drop_unknown(data)>,\n",
       " <function bw2io.strategies.csv.csv_add_missing_exchanges_section(data)>,\n",
       " <function bw2io.strategies.generic.normalize_units(db)>,\n",
       " <function bw2io.strategies.biosphere.normalize_biosphere_categories(db, lcia=False)>,\n",
       " <function bw2io.strategies.biosphere.normalize_biosphere_names(db, lcia=False)>,\n",
       " <function bw2io.strategies.biosphere.strip_biosphere_exc_locations(db)>,\n",
       " <function bw2io.strategies.generic.set_code_by_activity_hash(db, overwrite=False)>,\n",
       " functools.partial(<function link_iterable_by_fields at 0x122ed8c10>, other=Brightway2 SQLiteBackend: biosphere3, kind='biosphere'),\n",
       " <function bw2io.strategies.generic.assign_only_product_as_production(db)>,\n",
       " <function bw2io.strategies.generic.link_technosphere_by_activity_hash(db, external_db_name=None, fields=None)>,\n",
       " <function bw2io.strategies.generic.drop_falsey_uncertainty_fields_but_keep_zeros(db)>,\n",
       " <function bw2io.strategies.generic.convert_uncertainty_types_to_integers(db)>,\n",
       " <function bw2io.strategies.generic.convert_activity_parameters_to_list(data)>]"
      ]
     },
     "execution_count": 67,
     "metadata": {},
     "output_type": "execute_result"
    }
   ],
   "source": [
    "xl_importer.strategies"
   ]
  },
  {
   "cell_type": "code",
   "execution_count": 79,
   "id": "b63c2a6b-538c-4a4e-83fb-60bf2095ee45",
   "metadata": {},
   "outputs": [
    {
     "name": "stdout",
     "output_type": "stream",
     "text": [
      "Extracted 1 worksheets in 0.03 seconds\n"
     ]
    }
   ],
   "source": [
    "xl_importer = bi.ExcelImporter(\"lci-mobility.xlsx\")"
   ]
  },
  {
   "cell_type": "code",
   "execution_count": 80,
   "id": "b33b0a20-8823-4201-89c1-2618638221fc",
   "metadata": {},
   "outputs": [
    {
     "name": "stdout",
     "output_type": "stream",
     "text": [
      "Applying strategy: csv_restore_tuples\n",
      "Applying strategy: csv_restore_booleans\n",
      "Applying strategy: csv_numerize\n",
      "Applying strategy: csv_drop_unknown\n",
      "Applying strategy: csv_add_missing_exchanges_section\n",
      "Applying strategy: normalize_units\n",
      "Applying strategy: normalize_biosphere_categories\n",
      "Applying strategy: normalize_biosphere_names\n",
      "Applying strategy: strip_biosphere_exc_locations\n",
      "Applying strategy: set_code_by_activity_hash\n",
      "Applying strategy: link_iterable_by_fields\n",
      "Applying strategy: assign_only_product_as_production\n",
      "Applying strategy: link_technosphere_by_activity_hash\n",
      "Applying strategy: drop_falsey_uncertainty_fields_but_keep_zeros\n",
      "Applying strategy: convert_uncertainty_types_to_integers\n",
      "Applying strategy: convert_activity_parameters_to_list\n",
      "Applied 16 strategies in 0.03 seconds\n"
     ]
    }
   ],
   "source": [
    "xl_importer.apply_strategies()"
   ]
  },
  {
   "cell_type": "code",
   "execution_count": 81,
   "id": "c2d00ad5-5224-445d-b2ac-7ad357da689c",
   "metadata": {},
   "outputs": [
    {
     "name": "stdout",
     "output_type": "stream",
     "text": [
      "3 datasets\n",
      "3 exchanges\n",
      "1 unlinked exchanges\n",
      "  Type biosphere: 1 unique unlinked exchanges\n"
     ]
    },
    {
     "data": {
      "text/plain": [
       "(3, 3, 1)"
      ]
     },
     "execution_count": 81,
     "metadata": {},
     "output_type": "execute_result"
    }
   ],
   "source": [
    "xl_importer.statistics()"
   ]
  },
  {
   "cell_type": "code",
   "execution_count": 83,
   "id": "4d01e5d5-c586-4493-b9bc-1d48a736eb76",
   "metadata": {},
   "outputs": [
    {
     "name": "stdout",
     "output_type": "stream",
     "text": [
      "{'name': 'Carbon Dioxide', 'amount': 0.11209439528023599, 'categories': ('air',), 'type': 'biosphere', 'minimum': 0.1, 'maximum': 0.12, 'uncertainty_type': 5}\n"
     ]
    }
   ],
   "source": [
    "for obj in xl_importer.unlinked:\n",
    "    print(obj)"
   ]
  },
  {
   "cell_type": "code",
   "execution_count": 84,
   "id": "0ae5aea5-e924-465b-99fd-1e819f26c704",
   "metadata": {},
   "outputs": [
    {
     "data": {
      "text/plain": [
       "True"
      ]
     },
     "execution_count": 84,
     "metadata": {},
     "output_type": "execute_result"
    }
   ],
   "source": [
    "co2['name'] == obj['name']"
   ]
  },
  {
   "cell_type": "code",
   "execution_count": 85,
   "id": "79b523cf-9890-482a-9c64-50763821631f",
   "metadata": {},
   "outputs": [
    {
     "name": "stdout",
     "output_type": "stream",
     "text": [
      "Applying strategy: link_iterable_by_fields\n"
     ]
    }
   ],
   "source": [
    "xl_importer.match_database(\"biosphere\", fields=['name'])"
   ]
  },
  {
   "cell_type": "code",
   "execution_count": 86,
   "id": "c0a4e88a-db1f-4420-b368-c0b0dca282b2",
   "metadata": {},
   "outputs": [
    {
     "name": "stdout",
     "output_type": "stream",
     "text": [
      "3 datasets\n",
      "3 exchanges\n",
      "0 unlinked exchanges\n",
      "  \n"
     ]
    },
    {
     "data": {
      "text/plain": [
       "True"
      ]
     },
     "execution_count": 86,
     "metadata": {},
     "output_type": "execute_result"
    }
   ],
   "source": [
    "xl_importer.all_linked"
   ]
  },
  {
   "cell_type": "code",
   "execution_count": 87,
   "id": "456636bb-063a-4cd3-8166-a0d891cc0bba",
   "metadata": {},
   "outputs": [
    {
     "name": "stderr",
     "output_type": "stream",
     "text": [
      "Writing activities to SQLite3 database:\n",
      "0% [###] 100% | ETA: 00:00:00\n",
      "Total time elapsed: 00:00:00\n"
     ]
    },
    {
     "name": "stdout",
     "output_type": "stream",
     "text": [
      "Title: Writing activities to SQLite3 database:\n",
      "  Started: 10/19/2021 11:00:37\n",
      "  Finished: 10/19/2021 11:00:37\n",
      "  Total time elapsed: 00:00:00\n",
      "  CPU %: 48.10\n",
      "  Memory %: 1.21\n",
      "Created database: mobility\n"
     ]
    }
   ],
   "source": [
    "xl_importer.write_database()"
   ]
  },
  {
   "cell_type": "code",
   "execution_count": null,
   "id": "9ba79356-d060-4e51-8b83-5bb8c7936aa3",
   "metadata": {},
   "outputs": [],
   "source": []
  }
 ],
 "metadata": {
  "kernelspec": {
   "display_name": "Python 3 (ipykernel)",
   "language": "python",
   "name": "python3"
  },
  "language_info": {
   "codemirror_mode": {
    "name": "ipython",
    "version": 3
   },
   "file_extension": ".py",
   "mimetype": "text/x-python",
   "name": "python",
   "nbconvert_exporter": "python",
   "pygments_lexer": "ipython3",
   "version": "3.9.12"
  }
 },
 "nbformat": 4,
 "nbformat_minor": 5
}
